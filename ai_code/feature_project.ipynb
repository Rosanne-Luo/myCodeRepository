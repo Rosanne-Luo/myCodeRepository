{
 "cells": [
  {
   "cell_type": "markdown",
   "metadata": {},
   "source": [
    "# 特征工程"
   ]
  },
  {
   "cell_type": "markdown",
   "metadata": {},
   "source": [
    "## unigram 特征"
   ]
  },
  {
   "cell_type": "code",
   "execution_count": 1,
   "metadata": {},
   "outputs": [],
   "source": [
    "from sklearn import feature_extraction\n",
    "from sklearn.model_selection import train_test_split\n",
    "\n",
    "def feature_unigram(data_all):\n",
    "    \"\"\" 通过unigram的方法特征化data_all\n",
    "    \n",
    "    Args:\n",
    "        data_all: N*1 矩阵，每一行为一个字符串\n",
    "    \n",
    "    Returns:\n",
    "        X : 特征向量\n",
    "    \n",
    "    \"\"\"\n",
    "    X = data_all[\"domain\"]\n",
    "    y = data_all[\"label\"]\n",
    "    ngram_vectorizer = feature_extraction.text.CountVectorizer(analyzer='char', ngram_range=(1, 1))\n",
    "    X = ngram_vectorizer.fit_transform(X).toarray()\n",
    "    return X"
   ]
  },
  {
   "cell_type": "code",
   "execution_count": null,
   "metadata": {},
   "outputs": [],
   "source": []
  }
 ],
 "metadata": {
  "kernelspec": {
   "display_name": "Python 3",
   "language": "python",
   "name": "python3"
  },
  "language_info": {
   "codemirror_mode": {
    "name": "ipython",
    "version": 3
   },
   "file_extension": ".py",
   "mimetype": "text/x-python",
   "name": "python",
   "nbconvert_exporter": "python",
   "pygments_lexer": "ipython3",
   "version": "3.6.8"
  }
 },
 "nbformat": 4,
 "nbformat_minor": 2
}
